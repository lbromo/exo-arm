{
 "cells": [
  {
   "cell_type": "code",
   "execution_count": null,
   "metadata": {},
   "outputs": [],
   "source": [
    "%pylab inline\n",
    "import numpy as np\n",
    "import matplotlib.pyplot as plt\n",
    "from mpl_toolkits.mplot3d import Axes3D"
   ]
  },
  {
   "cell_type": "code",
   "execution_count": null,
   "metadata": {},
   "outputs": [],
   "source": [
    "import muscle\n",
    "import muscle_utils"
   ]
  },
  {
   "cell_type": "code",
   "execution_count": null,
   "metadata": {},
   "outputs": [],
   "source": [
    "biceps = muscle.Muscle()"
   ]
  },
  {
   "cell_type": "code",
   "execution_count": null,
   "metadata": {},
   "outputs": [],
   "source": [
    "length = np.linspace(-150, 50, 50)\n",
    "vel = np.linspace(-800, 400, 50)"
   ]
  },
  {
   "cell_type": "code",
   "execution_count": null,
   "metadata": {},
   "outputs": [],
   "source": [
    "## 3D force plot\n",
    "x, y = np.meshgrid(length, vel)\n",
    "z = biceps.__get_force_estimate__(length=x, velocity=y, activation_level=1)\n",
    "fig = plt.figure()\n",
    "ax = fig.gca(projection='3d')\n",
    "ax.plot_surface(x, y, z)\n",
    "plt.gca().invert_xaxis()\n",
    "data = np.vstack([x.flatten(), y.flatten(), z.flatten()])\n",
    "np.savetxt('bicpes_3D.dat', data.T, fmt=\"%f %f %f\")\n",
    "# sed -E \"s/^-150.*/\\n&/g\" < test.dat > test2.dat"
   ]
  },
  {
   "cell_type": "code",
   "execution_count": null,
   "metadata": {},
   "outputs": [],
   "source": [
    "## 2D force plot\n",
    "plt.figure()\n",
    "y = biceps.__get_force_estimate__(length=length, velocity=0, activation_level=1)\n",
    "plt.plot(length, y)\n",
    "np.savetxt('bicpes_len.dat', np.vstack([length, y]).T, fmt=\"%f %f\")\n",
    "\n",
    "plt.figure()\n",
    "y = biceps.__get_force_estimate__(length=0, velocity=vel, activation_level=1)\n",
    "plt.plot(vel, y)\n",
    "np.savetxt('bicpes_vel.dat', np.vstack([vel, y]).T, fmt=\"%f %f\")"
   ]
  },
  {
   "cell_type": "code",
   "execution_count": null,
   "metadata": {},
   "outputs": [],
   "source": [
    "length = np.linspace(-150, 60, 50)\n",
    "vel = 0\n",
    "#length, vel = np.meshgrid(length, vel)\n",
    "\n",
    "Fcemax = 461.76\n",
    "Lmax = 404.6\n",
    "Lts = 229.8\n",
    "Lce0 = 130.7\n",
    "alpha = 0.56\n",
    "phi_m=0.1\n",
    "phi_v=0.5\n",
    "spe = 9\n",
    "\n",
    "a = 1\n",
    "# CE Element\n",
    "# Real-Time Myoprocessors for a Neural Controlled Powered Exoskeleton Arm\n",
    "Vcemax = 2 * Lce0 + 8 * Lce0 * alpha\n",
    "Vce0 = 1/2 * (a + 1) * Vcemax\n",
    "\n",
    "fl = np.exp(-1/2 * ((length/Lce0 - phi_m) / phi_v) ** 2)\n",
    "fv = 0.1433 / (0.1074 + np.exp(-1.3 * np.sinh(2.8 * vel / Vce0 + 1.64)))\n",
    "Fce = a * fl * fv * Fcemax\n",
    "\n",
    "# PE Element\n",
    "# Real-Time Myoprocessors for a Neural Controlled Powered Exoskeleton Arm\n",
    "Fpemax = 0.05 * Fcemax\n",
    "DLpemax = Lmax - (Lce0 + Lts)\n",
    "\n",
    "Fpe = Fpemax / (np.exp(spe) - 1) * (np.exp(spe/DLpemax * length) - 1)\n",
    "\n",
    "Ftot = Fce + Fpe"
   ]
  },
  {
   "cell_type": "code",
   "execution_count": null,
   "metadata": {},
   "outputs": [],
   "source": [
    "np.savetxt('fl.dat', np.vstack([length, fl]).T, fmt=\"%f %f\")\n",
    "np.savetxt('gv.dat', np.vstack([vel, fv]).T, fmt=\"%f %f\")\n",
    "np.savetxt('fce.dat', np.vstack([length, Fce]).T, fmt=\"%f %f\")\n",
    "np.savetxt('fpe.dat', np.vstack([length, Fpe]).T, fmt=\"%f %f\")"
   ]
  },
  {
   "cell_type": "code",
   "execution_count": null,
   "metadata": {},
   "outputs": [],
   "source": []
  },
  {
   "cell_type": "code",
   "execution_count": null,
   "metadata": {},
   "outputs": [],
   "source": []
  }
 ],
 "metadata": {
  "kernelspec": {
   "display_name": "Python 3",
   "language": "python",
   "name": "python3"
  },
  "language_info": {
   "codemirror_mode": {
    "name": "ipython",
    "version": 3
   },
   "file_extension": ".py",
   "mimetype": "text/x-python",
   "name": "python",
   "nbconvert_exporter": "python",
   "pygments_lexer": "ipython3"
  }
 },
 "nbformat": 4,
 "nbformat_minor": 1
}
