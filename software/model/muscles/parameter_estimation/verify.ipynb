{
 "cells": [
  {
   "cell_type": "code",
   "execution_count": null,
   "metadata": {},
   "outputs": [],
   "source": [
    "%pylab inline\n",
    "import os, glob, pickle\n",
    "import numpy as np\n",
    "import matplotlib.pyplot as plt\n",
    "pylab.rcParams['figure.figsize'] = (10, 6)"
   ]
  },
  {
   "cell_type": "code",
   "execution_count": null,
   "metadata": {},
   "outputs": [],
   "source": [
    "import sys\n",
    "sys.path.append(\"../\")\n",
    "import muscle_utils"
   ]
  },
  {
   "cell_type": "code",
   "execution_count": null,
   "metadata": {},
   "outputs": [],
   "source": [
    "import parest\n",
    "import amre1, amre2\n",
    "import amrf1, amrf2"
   ]
  },
  {
   "cell_type": "code",
   "execution_count": null,
   "metadata": {},
   "outputs": [],
   "source": [
    "ts = 0.01\n",
    "padding = int(10/ts)"
   ]
  },
  {
   "cell_type": "code",
   "execution_count": null,
   "metadata": {},
   "outputs": [],
   "source": [
    "angles_in = [amre1.angles_in,\n",
    "             [0]*padding,\n",
    "             amre2.angles_in,\n",
    "             [0]*padding,\n",
    "             amrf1.angles_in,\n",
    "             [0]*padding,\n",
    "             amrf2.angles_in,\n",
    "]\n",
    "\n",
    "\n",
    "torque_out = [amre1.torque_out,\n",
    "              [0]*padding,\n",
    "              amre2.torque_out,\n",
    "              [0]*padding,\n",
    "              amrf1.torque_out,\n",
    "              [0]*padding,\n",
    "              amrf2.torque_out,\n",
    "]\n"
   ]
  },
  {
   "cell_type": "code",
   "execution_count": null,
   "metadata": {},
   "outputs": [],
   "source": [
    "emg0_training = [amre1.emg0_training,\n",
    "                 np.zeros((padding, 8)),\n",
    "                 amre2.emg0_training,\n",
    "                 np.zeros((padding, 8)),\n",
    "                 amrf1.emg0_training,\n",
    "                 np.zeros((padding, 8)),\n",
    "                 amrf2.emg0_training,\n",
    "]\n",
    "emg1_training = [amre1.emg1_training,\n",
    "                 np.zeros((padding, 8)),\n",
    "                 amre2.emg1_training,\n",
    "                 np.zeros((padding, 8)),\n",
    "                 amrf1.emg1_training,\n",
    "                 np.zeros((padding, 8)),\n",
    "                 amrf2.emg1_training,\n",
    "]\n",
    "\n",
    "emg0_in = [amre1.emg0_in,\n",
    "           np.zeros((padding, 8)),\n",
    "           amre2.emg0_in,\n",
    "           np.zeros((padding, 8)),\n",
    "           amrf1.emg0_in, \n",
    "           np.zeros((padding, 8)),\n",
    "           amrf2.emg0_in,\n",
    "]\n",
    "emg1_in = [amre1.emg1_in,\n",
    "           np.zeros((padding, 8)),\n",
    "           amre2.emg1_in,\n",
    "           np.zeros((padding, 8)),\n",
    "           amrf1.emg1_in,\n",
    "           np.zeros((padding, 8)),\n",
    "           amrf2.emg1_in,\n",
    "]\n"
   ]
  },
  {
   "cell_type": "code",
   "execution_count": null,
   "metadata": {},
   "outputs": [],
   "source": [
    "imu0_in = [amre1.imu0_meas,\n",
    "           np.zeros((padding, 7)),\n",
    "           amre2.imu0_meas,\n",
    "           np.zeros((padding, 7)),\n",
    "           amrf1.imu0_meas, \n",
    "           np.zeros((padding, 7)),\n",
    "           amrf2.imu0_meas,\n",
    "]\n",
    "\n",
    "imu1_in = [amre1.imu1_meas,\n",
    "           np.zeros((padding, 7)),\n",
    "           amre2.imu1_meas,\n",
    "           np.zeros((padding, 7)),\n",
    "           amrf1.imu1_meas,\n",
    "           np.zeros((padding, 7)),\n",
    "           amrf2.imu1_meas,\n",
    "]"
   ]
  },
  {
   "cell_type": "code",
   "execution_count": null,
   "metadata": {},
   "outputs": [],
   "source": [
    "FILE_MSE = {}\n",
    "\n",
    "for file in glob.glob(\"/afs/ies.auc.dk/group/17gr1035/Private/exo-arm/software/model/muscles/parameter_estimation/*.pickle\"):\n",
    "    with open(file, 'rb') as tmp:\n",
    "        values = pickle.load(tmp)\n",
    "        FILE_MSE[file] = values['MSE']\n",
    "\n",
    "best_parest = min(FILE_MSE, key=FILE_MSE.get)\n",
    "\n",
    "pars = {}\n",
    "with open(best_parest, 'rb') as tmp:\n",
    "    pars = pickle.load(tmp)\n",
    "\n",
    "triceps_pars = [\n",
    "    pars[muscle_utils.MUSCLE_NAME.TRICEPS_BRACHII]['C1'],\n",
    "    pars[muscle_utils.MUSCLE_NAME.TRICEPS_BRACHII]['C2'],\n",
    "    pars[muscle_utils.MUSCLE_NAME.TRICEPS_BRACHII]['A'],\n",
    "    pars[muscle_utils.MUSCLE_NAME.TRICEPS_BRACHII]['d'],\n",
    "    pars[muscle_utils.MUSCLE_NAME.TRICEPS_BRACHII]['max_length'],\n",
    "    pars[muscle_utils.MUSCLE_NAME.TRICEPS_BRACHII]['optimal_fiber_length'],\n",
    "    pars[muscle_utils.MUSCLE_NAME.TRICEPS_BRACHII]['tensor_slack_length'],\n",
    "    pars[muscle_utils.MUSCLE_NAME.TRICEPS_BRACHII]['max_force'],\n",
    "    pars[muscle_utils.MUSCLE_NAME.TRICEPS_BRACHII]['alpha'],\n",
    "    pars[muscle_utils.MUSCLE_NAME.TRICEPS_BRACHII]['Spe'],\n",
    "    pars[muscle_utils.MUSCLE_NAME.TRICEPS_BRACHII]['Sse'],\n",
    "    pars[muscle_utils.MUSCLE_NAME.TRICEPS_BRACHII]['phi_m'],\n",
    "    pars[muscle_utils.MUSCLE_NAME.TRICEPS_BRACHII]['phi_v'],\n",
    "]\n",
    "\n",
    "biceps_pars = [\n",
    "    pars[muscle_utils.MUSCLE_NAME.BICEPS_BRACHII]['C1'],\n",
    "    pars[muscle_utils.MUSCLE_NAME.BICEPS_BRACHII]['C2'],\n",
    "    pars[muscle_utils.MUSCLE_NAME.BICEPS_BRACHII]['A'],\n",
    "    pars[muscle_utils.MUSCLE_NAME.BICEPS_BRACHII]['d'],\n",
    "    pars[muscle_utils.MUSCLE_NAME.BICEPS_BRACHII]['max_length'],\n",
    "    pars[muscle_utils.MUSCLE_NAME.BICEPS_BRACHII]['optimal_fiber_length'],\n",
    "    pars[muscle_utils.MUSCLE_NAME.BICEPS_BRACHII]['tensor_slack_length'],\n",
    "    pars[muscle_utils.MUSCLE_NAME.BICEPS_BRACHII]['max_force'],\n",
    "    pars[muscle_utils.MUSCLE_NAME.BICEPS_BRACHII]['alpha'],\n",
    "    pars[muscle_utils.MUSCLE_NAME.BICEPS_BRACHII]['Spe'],\n",
    "    pars[muscle_utils.MUSCLE_NAME.BICEPS_BRACHII]['Sse'],\n",
    "    pars[muscle_utils.MUSCLE_NAME.BICEPS_BRACHII]['phi_m'],\n",
    "    pars[muscle_utils.MUSCLE_NAME.BICEPS_BRACHII]['phi_v'],\n",
    "]\n",
    "\n",
    "brachialis_pars = [\n",
    "    pars[muscle_utils.MUSCLE_NAME.BRACHIALIS]['C1'],\n",
    "    pars[muscle_utils.MUSCLE_NAME.BRACHIALIS]['C2'],\n",
    "    pars[muscle_utils.MUSCLE_NAME.BRACHIALIS]['A'],\n",
    "    pars[muscle_utils.MUSCLE_NAME.BRACHIALIS]['d'],\n",
    "    pars[muscle_utils.MUSCLE_NAME.BRACHIALIS]['max_length'],\n",
    "    pars[muscle_utils.MUSCLE_NAME.BRACHIALIS]['optimal_fiber_length'],\n",
    "    pars[muscle_utils.MUSCLE_NAME.BRACHIALIS]['tensor_slack_length'],\n",
    "    pars[muscle_utils.MUSCLE_NAME.BRACHIALIS]['max_force'],\n",
    "    pars[muscle_utils.MUSCLE_NAME.BRACHIALIS]['alpha'],\n",
    "    pars[muscle_utils.MUSCLE_NAME.BRACHIALIS]['Spe'],\n",
    "    pars[muscle_utils.MUSCLE_NAME.BRACHIALIS]['Sse'],\n",
    "    pars[muscle_utils.MUSCLE_NAME.BRACHIALIS]['phi_m'],\n",
    "    pars[muscle_utils.MUSCLE_NAME.BRACHIALIS]['phi_v'],\n",
    "]\n",
    "\n",
    "brachioradialis_pars = [\n",
    "    pars[muscle_utils.MUSCLE_NAME.BRACHIORADIALIS]['C1'],\n",
    "    pars[muscle_utils.MUSCLE_NAME.BRACHIORADIALIS]['C2'],\n",
    "    pars[muscle_utils.MUSCLE_NAME.BRACHIORADIALIS]['A'],\n",
    "    pars[muscle_utils.MUSCLE_NAME.BRACHIORADIALIS]['d'],\n",
    "    pars[muscle_utils.MUSCLE_NAME.BRACHIORADIALIS]['max_length'],\n",
    "    pars[muscle_utils.MUSCLE_NAME.BRACHIORADIALIS]['optimal_fiber_length'],\n",
    "    pars[muscle_utils.MUSCLE_NAME.BRACHIORADIALIS]['tensor_slack_length'],\n",
    "    pars[muscle_utils.MUSCLE_NAME.BRACHIORADIALIS]['max_force'],\n",
    "    pars[muscle_utils.MUSCLE_NAME.BRACHIORADIALIS]['alpha'],\n",
    "    pars[muscle_utils.MUSCLE_NAME.BRACHIORADIALIS]['Spe'],\n",
    "    pars[muscle_utils.MUSCLE_NAME.BRACHIORADIALIS]['Sse'],\n",
    "    pars[muscle_utils.MUSCLE_NAME.BRACHIORADIALIS]['phi_m'],\n",
    "    pars[muscle_utils.MUSCLE_NAME.BRACHIORADIALIS]['phi_v'],\n",
    "]\n",
    "\n",
    "\n",
    "\n",
    "params = triceps_pars + biceps_pars + brachialis_pars + brachioradialis_pars"
   ]
  },
  {
   "cell_type": "code",
   "execution_count": null,
   "metadata": {},
   "outputs": [],
   "source": [
    "parest.angles_in = angles_in\n",
    "parest.torque_out = torque_out\n",
    "parest.emg0_training = emg0_training\n",
    "parest.emg1_training = emg1_training\n",
    "parest.emg0_in = emg0_in\n",
    "parest.emg1_in = emg1_in\n",
    "parest.imu0_in = imu0_in\n",
    "parest.imu1_in = imu1_in"
   ]
  },
  {
   "cell_type": "code",
   "execution_count": null,
   "metadata": {},
   "outputs": [],
   "source": [
    "torque = []\n",
    "for tau_tmp in parest.torque_out:\n",
    "    torque = torque + list(tau_tmp)"
   ]
  },
  {
   "cell_type": "code",
   "execution_count": null,
   "metadata": {},
   "outputs": [],
   "source": [
    "estimated = parest.FlexProblem()\n",
    "muscles = estimated.set_up_muscles(params)\n",
    "tau, act, m_tau = estimated.simulate(muscles)"
   ]
  },
  {
   "cell_type": "code",
   "execution_count": null,
   "metadata": {},
   "outputs": [],
   "source": [
    "plt.plot(tau)\n",
    "plt.plot(torque)"
   ]
  },
  {
   "cell_type": "code",
   "execution_count": null,
   "metadata": {},
   "outputs": [],
   "source": [
    "plt.plot(tau[4500:6000])\n",
    "plt.plot(torque[4500:6000])"
   ]
  },
  {
   "cell_type": "code",
   "execution_count": null,
   "metadata": {},
   "outputs": [],
   "source": []
  }
 ],
 "metadata": {
  "kernelspec": {
   "display_name": "Python 3",
   "language": "python",
   "name": "python3"
  },
  "language_info": {
   "codemirror_mode": {
    "name": "ipython",
    "version": 3
   },
   "file_extension": ".py",
   "mimetype": "text/x-python",
   "name": "python",
   "nbconvert_exporter": "python",
   "pygments_lexer": "ipython3"
  }
 },
 "nbformat": 4,
 "nbformat_minor": 2
}
