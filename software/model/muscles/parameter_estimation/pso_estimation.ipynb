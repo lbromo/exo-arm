{
 "cells": [
  {
   "cell_type": "code",
   "execution_count": null,
   "metadata": {},
   "outputs": [],
   "source": [
    "%pylab inline\n",
    "import numpy as np\n",
    "import pandas as pd\n",
    "import matplotlib.pyplot as plt"
   ]
  },
  {
   "cell_type": "code",
   "execution_count": null,
   "metadata": {},
   "outputs": [],
   "source": [
    "import muscle\n",
    "import muscle_utils"
   ]
  },
  {
   "cell_type": "code",
   "execution_count": null,
   "metadata": {},
   "outputs": [],
   "source": [
    "## Objective function definition\n",
    "def objective(Fcemax, Lmax, Lce0, Lts, Spe, phi_m, phi_v, alpha, l, v, a, m, y, pso=True):    \n",
    "    length = l\n",
    "    vel = v\n",
    "    \n",
    "    # CE Element\n",
    "    # Real-Time Myoprocessors for a Neural Controlled Powered Exoskeleton Arm\n",
    "    Vcemax = 2 * Lce0 + 8 * Lce0 * alpha\n",
    "    Vce0 = 1/2 * (a + 1) * Vcemax\n",
    "\n",
    "    fl = np.exp(-1/2 * ((length/Lce0 - phi_m) / phi_v) ** 2)\n",
    "    fv = 0.1433 / (0.1074 + np.exp(-1.3 * np.sinh(2.8 * vel / Vce0 + 1.64)))\n",
    "    Fce = a * fl * fv * Fcemax\n",
    "\n",
    "    # PE Element\n",
    "    # Real-Time Myoprocessors for a Neural Controlled Powered Exoskeleton Arm\n",
    "    Fpemax = 0.05 * Fcemax\n",
    "    DLpemax = Lmax - (Lce0 + Lts)\n",
    "\n",
    "    Fpe = Fpemax / (np.exp(Spe) - 1) * (np.exp(Spe/DLpemax * length) - 1)\n",
    "    \n",
    "    Ftot = Fce + Fpe\n",
    "    \n",
    "    t_out = np.multiply(Ftot,m)\n",
    "    \n",
    "    mse = ((y - t_out) ** 2).mean()\n",
    "    cost = sum(abs(y -t_out))\n",
    "    if pso:\n",
    "        return cost\n",
    "    else:\n",
    "        return T"
   ]
  },
  {
   "cell_type": "code",
   "execution_count": null,
   "metadata": {},
   "outputs": [],
   "source": [
    "## Generate testdata\n",
    "m = muscle.Muscle(muscle_type=muscle_utils.MUSCLE_NAME.BICEPS_BRACHII)\n",
    "a = np.sin(np.linspace(0, 10*np.pi, 140))\n",
    "a[a < 0] = -a[a < 0]\n",
    "T = np.zeros((1, 140))\n",
    "L = np.zeros((1, 140))\n",
    "M = np.zeros((1, 140))\n",
    "for i, activation_level in zip(range(0,140), a):\n",
    "    angles = [0, 0, i, 0]\n",
    "    M[0, i] = muscle_utils.get_muscle_value(muscle_utils.MUSCLE_NAME.BICEPS_BRACHII, angles[2], muscle_utils.MUSCLE_JOINT.ELBOW)\n",
    "    T[0, i] = m.get_torque_estimate(angles, activation_level, muscle_utils.MUSCLE_JOINT.ELBOW) * M[0, i]\n",
    "    L[0, i] = muscle_utils.get_muscle_value(muscle_utils.MUSCLE_NAME.BICEPS_BRACHII, angles)\n",
    "    \n",
    "V = np.diff(L)\n",
    "V = np.insert(V, 0, V[0,0])\n",
    "L = L - 378.06"
   ]
  },
  {
   "cell_type": "code",
   "execution_count": null,
   "metadata": {},
   "outputs": [],
   "source": [
    "## Initialize PSO\n",
    "# PSO constants\n",
    "w = 0.5\n",
    "phi_p = 0.75\n",
    "phi_g = 1\n",
    "\n",
    "# PSO init\n",
    "S = 100 # particles\n",
    "n = 8 # dimensions\n",
    "\n",
    "# Fcemax, Lmax, Lce0, Lts, Spe, phi_m, phi_v, alpha\n",
    "expected = np.array([462, 404, 131, 230, 9, 0.1, 0.5, 0.56])\n",
    "min_val  = np.array([300, 100, 100, 100, 0, 0, 0, 0.3])\n",
    "max_val  = np.array([700, 800, 300, 300, 10, 1, 1, 0.7])\n",
    "max_vel  = max_val - min_val"
   ]
  },
  {
   "cell_type": "code",
   "execution_count": null,
   "metadata": {},
   "outputs": [],
   "source": [
    "# init\n",
    "x = np.zeros((S,n))\n",
    "v = np.zeros((S,n))\n",
    "p = np.zeros((S,n))\n",
    "for i in range(S):\n",
    "    for d in range(n):\n",
    "        x[i,d] = np.random.uniform(min_val[d], max_val[d], 1)\n",
    "        v[i,d] = np.random.uniform(-max_vel[d], max_vel[d], 1)\n",
    "\n",
    "        \n",
    "for i in range(S):\n",
    "    for d in range(n):\n",
    "        p[i,d] = np.random.uniform(min_val[d], max_val[d], 1)\n",
    "    \n",
    "gb = max_val\n",
    "g_best = np.nan\n",
    "for i in range(S):\n",
    "    if not (all(min_val <= x[i,:]) and all(x[i,:] <= max_val)):\n",
    "        continue\n",
    "        \n",
    "    tmp = objective(p[i,0], p[i,1], p[i,2], p[i,3], p[i,4], p[i,5], p[i,6], p[i,7], L, V, a, M, T)\n",
    "    \n",
    "    if np.isnan(tmp):\n",
    "        continue\n",
    "    \n",
    "    if tmp < g_best or np.isnan(g_best):\n",
    "        gb = p[i,:]"
   ]
  },
  {
   "cell_type": "code",
   "execution_count": null,
   "metadata": {},
   "outputs": [],
   "source": [
    "# PSO loop\n",
    "N = 0\n",
    "N_max = 100\n",
    "reinit = 0\n",
    "g_best = objective(gb[0], gb[1], gb[2], gb[3], gb[4], gb[5], gb[6], gb[7], L, V, a, M, T) \n",
    "print('INITIAL:', g_best)\n",
    "\n",
    "while g_best > 100 and N < N_max:\n",
    "    for i in range(S):\n",
    "        for d in range(n):\n",
    "            rp = np.random.rand()\n",
    "            rg = np.random.rand()\n",
    "            v[i,d] = w * v[i,d] + phi_p * rp * (p[i,d]-x[i,d]) + phi_g * rg * (gb[d]-x[i,d])\n",
    "        \n",
    "        xnew = x[i,:] + v[i,:]\n",
    "        fitness = objective(xnew[0], xnew[1], xnew[2], xnew[3], xnew[4], xnew[5], xnew[6], xnew[7], L, V, a, M, T)\n",
    "        p_best = objective(p[i,0], p[i,1], p[i,2], p[i,3], p[i,4], p[i,5], p[i,6], p[i,7], L, V, a, M, T)\n",
    "        if np.isnan(fitness) or (any(min_val < x[i,:]) or any(x[i,:] > max_val)):\n",
    "            fitness = np.inf\n",
    "        \n",
    "        if fitness < p_best:\n",
    "            p[i,:] = xnew\n",
    "            if fitness < g_best:\n",
    "                gb = xnew\n",
    "                g_best = fitness\n",
    "\n",
    "        x[i,:] = xnew\n",
    "        \n",
    "    N = N + 1\n",
    "    if N % int(N_max/10) == 0:\n",
    "        print(int(N/N_max * 100))\n",
    "        \n",
    "print('FINAL:', g_best)"
   ]
  },
  {
   "cell_type": "code",
   "execution_count": null,
   "metadata": {},
   "outputs": [],
   "source": [
    "est = objective(gb[0], gb[1], gb[2], gb[3], gb[4], gb[5], gb[6], gb[7], L, V, a, M, T, pso=False)\n",
    "plt.plot(T.T)\n",
    "plt.plot(est.T, 'x')\n",
    "plt.savefig('pso_esimation.png')"
   ]
  },
  {
   "cell_type": "code",
   "execution_count": null,
   "metadata": {},
   "outputs": [],
   "source": [
    "plt.plot(p[:,0], p[:,1], 'x')\n",
    "plt.plot(x[:,0], x[:,1], 'x')\n",
    "plt.plot(gb[0], gb[1], 'o')"
   ]
  },
  {
   "cell_type": "code",
   "execution_count": null,
   "metadata": {},
   "outputs": [],
   "source": [
    "[print(p) for p in gb]"
   ]
  },
  {
   "cell_type": "code",
   "execution_count": null,
   "metadata": {},
   "outputs": [],
   "source": [
    "[print(p) for p in expected]"
   ]
  },
  {
   "cell_type": "code",
   "execution_count": null,
   "metadata": {},
   "outputs": [],
   "source": [
    "any(min_val > gb)"
   ]
  },
  {
   "cell_type": "code",
   "execution_count": null,
   "metadata": {},
   "outputs": [],
   "source": [
    "any(gb > max_val)"
   ]
  },
  {
   "cell_type": "code",
   "execution_count": null,
   "metadata": {},
   "outputs": [],
   "source": [
    "plt.plot(np.log(range(1)))"
   ]
  },
  {
   "cell_type": "code",
   "execution_count": null,
   "metadata": {},
   "outputs": [],
   "source": []
  }
 ],
 "metadata": {
  "kernelspec": {
   "display_name": "Python 3",
   "language": "python",
   "name": "python3"
  },
  "language_info": {
   "codemirror_mode": {
    "name": "ipython",
    "version": 3
   },
   "file_extension": ".py",
   "mimetype": "text/x-python",
   "name": "python",
   "nbconvert_exporter": "python",
   "pygments_lexer": "ipython3"
  }
 },
 "nbformat": 4,
 "nbformat_minor": 1
}
