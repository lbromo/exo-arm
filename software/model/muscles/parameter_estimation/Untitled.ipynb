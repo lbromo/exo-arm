{
 "cells": [
  {
   "cell_type": "code",
   "execution_count": null,
   "metadata": {},
   "outputs": [],
   "source": [
    "%pylab inline\n",
    "import mmre1\n",
    "import matplotlib.pyplot as plt"
   ]
  },
  {
   "cell_type": "code",
   "execution_count": null,
   "metadata": {},
   "outputs": [],
   "source": [
    "imu1_meas = np.genfromtxt(\n",
    "    \"/afs/ies.auc.dk/group/17gr1035/Private/logs/emg_logs/mr_morten/marts/MRE_imu0.log\",\n",
    "    delimiter=',')\n",
    "kinkom=np.genfromtxt(\n",
    "    \"/afs/ies.auc.dk/group/17gr1035/Private/logs/kincom_logs/morten/marts/MRE_clean\",\n",
    "    delimiter=','\n",
    ")\n",
    "\n",
    "angle = abs(kinkom[:,1])\n",
    "force = kinkom[:,-1]\n",
    "kinkom_time = kinkom[:,0]\n",
    "\n",
    "tmp = np.array([imu1_meas[1:,1][i] - imu1_meas[1:,1][i-1] for i in range(1, len(imu1_meas[1:,1]))])\n",
    "dA = np.array([angle[i] - angle[i-1] for i in range(1, len(angle))])\n",
    "\n",
    "imu_start = np.where( tmp > 0.1 )[0][0]\n",
    "imu_stop = np.where( tmp > 0.1 )[0][-1]\n",
    "\n",
    "t_start = imu1_meas[1:,0][imu_start]\n",
    "t_stop  = imu1_meas[1:,0][imu_stop]\n",
    "\n",
    "angle_start = np.where( abs(dA) >= 0.4 )[0][0]\n",
    "kinkom_time = kinkom_time[angle_start:] -  kinkom_time[angle_start]\n",
    "# We lost some measurements from the myo, so we cut off a after that\n",
    "angle_stop = np.where(kinkom_time >= (imu1_meas[1:,0][imu_stop] - t_start))[0][0]"
   ]
  },
  {
   "cell_type": "code",
   "execution_count": null,
   "metadata": {},
   "outputs": [],
   "source": [
    "imu1_meas[1:,0][imu_stop] - t_start"
   ]
  },
  {
   "cell_type": "code",
   "execution_count": null,
   "metadata": {},
   "outputs": [],
   "source": [
    "kinkom_time[angle_stop]"
   ]
  },
  {
   "cell_type": "code",
   "execution_count": null,
   "metadata": {},
   "outputs": [],
   "source": [
    "np.where(kinkom_time >= (imu1_meas[1:,0][imu_stop] - t_start))[0][0]"
   ]
  },
  {
   "cell_type": "code",
   "execution_count": null,
   "metadata": {},
   "outputs": [],
   "source": [
    "plt.plot(angle[angle_start:angle_stop+angle_start])"
   ]
  },
  {
   "cell_type": "code",
   "execution_count": null,
   "metadata": {},
   "outputs": [],
   "source": [
    "import mmre1\n",
    "mmre1.imu1_meas.shape"
   ]
  },
  {
   "cell_type": "code",
   "execution_count": null,
   "metadata": {},
   "outputs": [],
   "source": []
  }
 ],
 "metadata": {
  "kernelspec": {
   "display_name": "Python 3",
   "language": "python",
   "name": "python3"
  },
  "language_info": {
   "codemirror_mode": {
    "name": "ipython",
    "version": 3
   },
   "file_extension": ".py",
   "mimetype": "text/x-python",
   "name": "python",
   "nbconvert_exporter": "python",
   "pygments_lexer": "ipython3"
  }
 },
 "nbformat": 4,
 "nbformat_minor": 2
}
