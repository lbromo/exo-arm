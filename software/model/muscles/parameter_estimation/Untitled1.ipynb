{
 "cells": [
  {
   "cell_type": "code",
   "execution_count": null,
   "metadata": {},
   "outputs": [],
   "source": [
    "%pylab inline\n",
    "import numpy as np\n",
    "import scipy.signal\n",
    "import matplotlib.pyplot as plt\n",
    "\n",
    "import mre7\n",
    "import mre8\n",
    "import mrf1"
   ]
  },
  {
   "cell_type": "code",
   "execution_count": null,
   "metadata": {},
   "outputs": [],
   "source": [
    "ts = 0.01\n",
    "padding = int(5/ts)\n",
    "\n",
    "angles_in = [mre7.angles_in, [0]*padding, mre8.angles_in]\n",
    "torque = [mre7.torque_out, [0]*padding, mre8.torque_out]\n",
    "\n",
    "emg0_training = [mre7.emg0_training, np.zeros((padding, 8)), mre8.emg0_training]\n",
    "emg1_training = [mre7.emg1_training, np.zeros((padding, 8)), mre8.emg1_training]\n",
    "\n",
    "emg0_in = [mre7.emg0_in, [0]*padding, mre8.emg0_in]\n",
    "emg1_in = [mre7.emg1_in, [0]*padding, mre8.emg1_in]"
   ]
  },
  {
   "cell_type": "code",
   "execution_count": null,
   "metadata": {},
   "outputs": [],
   "source": [
    "plt.plot([a for run in angles_in for a in run])"
   ]
  },
  {
   "cell_type": "code",
   "execution_count": null,
   "metadata": {},
   "outputs": [],
   "source": [
    "print( [len(tmp) for tmp in angles_in] )\n",
    "print( sum([len(tmp) for tmp in emg0_in])*1.33*0.01 )"
   ]
  },
  {
   "cell_type": "code",
   "execution_count": null,
   "metadata": {},
   "outputs": [],
   "source": [
    "mre7.emg0_training.shape"
   ]
  },
  {
   "cell_type": "code",
   "execution_count": null,
   "metadata": {},
   "outputs": [],
   "source": [
    "np.zeros((padding, 8)).shape"
   ]
  },
  {
   "cell_type": "code",
   "execution_count": null,
   "metadata": {},
   "outputs": [],
   "source": []
  }
 ],
 "metadata": {
  "kernelspec": {
   "display_name": "Python 3",
   "language": "python",
   "name": "python3"
  },
  "language_info": {
   "codemirror_mode": {
    "name": "ipython",
    "version": 3
   },
   "file_extension": ".py",
   "mimetype": "text/x-python",
   "name": "python",
   "nbconvert_exporter": "python",
   "pygments_lexer": "ipython3"
  }
 },
 "nbformat": 4,
 "nbformat_minor": 2
}
