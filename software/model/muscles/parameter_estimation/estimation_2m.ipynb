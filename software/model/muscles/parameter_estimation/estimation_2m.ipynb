{
 "cells": [
  {
   "cell_type": "code",
   "execution_count": null,
   "metadata": {
    "deletable": true,
    "editable": true
   },
   "outputs": [],
   "source": [
    "%pylab inline\n",
    "import os, glob, pickle\n",
    "import numpy as np\n",
    "import matplotlib.pyplot as plt\n",
    "from scipy import signal\n",
    "pylab.rcParams['figure.figsize'] = (10, 6)"
   ]
  },
  {
   "cell_type": "code",
   "execution_count": null,
   "metadata": {
    "deletable": true,
    "editable": true
   },
   "outputs": [],
   "source": [
    "import sys\n",
    "sys.path.append(\"../\")\n",
    "import muscle_utils"
   ]
  },
  {
   "cell_type": "code",
   "execution_count": null,
   "metadata": {
    "deletable": true,
    "editable": true
   },
   "outputs": [],
   "source": [
    "import parest\n",
    "ts = 0.01\n",
    "padding = int(10/ts)"
   ]
  },
  {
   "cell_type": "code",
   "execution_count": null,
   "metadata": {
    "deletable": true,
    "editable": true
   },
   "outputs": [],
   "source": [
    "with open('../../2muslces_cleaned.pickle', 'rb') as tmp:\n",
    "    pars = pickle.load(tmp)\n",
    "\n",
    "triceps_pars = [\n",
    "    pars[muscle_utils.MUSCLE_NAME.TRICEPS_BRACHII]['ACTIVATION_SIGNAL']['C1'],\n",
    "    pars[muscle_utils.MUSCLE_NAME.TRICEPS_BRACHII]['ACTIVATION_SIGNAL']['C2'],\n",
    "    pars[muscle_utils.MUSCLE_NAME.TRICEPS_BRACHII]['ACTIVATION_SIGNAL']['A'],\n",
    "    pars[muscle_utils.MUSCLE_NAME.TRICEPS_BRACHII]['ACTIVATION_SIGNAL']['d'],\n",
    "    pars[muscle_utils.MUSCLE_NAME.TRICEPS_BRACHII]['max_length'],\n",
    "    pars[muscle_utils.MUSCLE_NAME.TRICEPS_BRACHII]['optimal_fiber_length'],\n",
    "    pars[muscle_utils.MUSCLE_NAME.TRICEPS_BRACHII]['tensor_slack_length'],\n",
    "    pars[muscle_utils.MUSCLE_NAME.TRICEPS_BRACHII]['max_force'],\n",
    "    pars[muscle_utils.MUSCLE_NAME.TRICEPS_BRACHII]['alpha'],\n",
    "    pars[muscle_utils.MUSCLE_NAME.TRICEPS_BRACHII]['Spe'],\n",
    "    pars[muscle_utils.MUSCLE_NAME.TRICEPS_BRACHII]['Sse'],\n",
    "    pars[muscle_utils.MUSCLE_NAME.TRICEPS_BRACHII]['phi_m'],\n",
    "    pars[muscle_utils.MUSCLE_NAME.TRICEPS_BRACHII]['phi_v'],\n",
    "]\n",
    "\n",
    "biceps_pars = [\n",
    "    pars[muscle_utils.MUSCLE_NAME.BICEPS_BRACHII]['ACTIVATION_SIGNAL']['C1'],\n",
    "    pars[muscle_utils.MUSCLE_NAME.BICEPS_BRACHII]['ACTIVATION_SIGNAL']['C2'],\n",
    "    pars[muscle_utils.MUSCLE_NAME.BICEPS_BRACHII]['ACTIVATION_SIGNAL']['A'],\n",
    "    pars[muscle_utils.MUSCLE_NAME.BICEPS_BRACHII]['ACTIVATION_SIGNAL']['d'],\n",
    "    pars[muscle_utils.MUSCLE_NAME.BICEPS_BRACHII]['max_length'],\n",
    "    pars[muscle_utils.MUSCLE_NAME.BICEPS_BRACHII]['optimal_fiber_length'],\n",
    "    pars[muscle_utils.MUSCLE_NAME.BICEPS_BRACHII]['tensor_slack_length'],\n",
    "    pars[muscle_utils.MUSCLE_NAME.BICEPS_BRACHII]['max_force'],\n",
    "    pars[muscle_utils.MUSCLE_NAME.BICEPS_BRACHII]['alpha'],\n",
    "    pars[muscle_utils.MUSCLE_NAME.BICEPS_BRACHII]['Spe'],\n",
    "    pars[muscle_utils.MUSCLE_NAME.BICEPS_BRACHII]['Sse'],\n",
    "    pars[muscle_utils.MUSCLE_NAME.BICEPS_BRACHII]['phi_m'],\n",
    "    pars[muscle_utils.MUSCLE_NAME.BICEPS_BRACHII]['phi_v'],\n",
    "]\n",
    "\n",
    "params = triceps_pars + biceps_pars"
   ]
  },
  {
   "cell_type": "code",
   "execution_count": null,
   "metadata": {
    "deletable": true,
    "editable": true
   },
   "outputs": [],
   "source": [
    "torque = []\n",
    "for tau_tmp in parest.torque_out:\n",
    "    torque = torque + list(tau_tmp)"
   ]
  },
  {
   "cell_type": "code",
   "execution_count": null,
   "metadata": {
    "deletable": true,
    "editable": true
   },
   "outputs": [],
   "source": [
    "estimated = parest.FlexProblem()\n",
    "muscles = estimated.set_up_muscles(params)\n",
    "tau, act, m_tau = estimated.simulate(muscles)\n",
    "act = np.array(act[0:2])"
   ]
  },
  {
   "cell_type": "code",
   "execution_count": null,
   "metadata": {
    "deletable": true,
    "editable": true
   },
   "outputs": [],
   "source": [
    "plt.plot(tau)\n",
    "plt.plot(torque)"
   ]
  },
  {
   "cell_type": "code",
   "execution_count": null,
   "metadata": {
    "deletable": true,
    "editable": true
   },
   "outputs": [],
   "source": [
    "# a little filter\n",
    "nyq = 0.5 * 100\n",
    "cut = 1\n",
    "low = cut / nyq\n",
    "b, a = signal.butter(4, low, 'low')"
   ]
  },
  {
   "cell_type": "code",
   "execution_count": null,
   "metadata": {
    "deletable": true,
    "editable": true
   },
   "outputs": [],
   "source": [
    "start = len(parest.mre7.emg0_in) + padding\n",
    "stop = start + len(parest.mre8.emg0_in)\n",
    "ext_est = tau[start:stop]\n",
    "ext = torque[start:stop]\n",
    "ext_act = act[:,start:stop]\n",
    "ext_time = np.linspace(0, (stop-start)*0.01, stop-start)\n",
    "\n",
    "ext_emg = np.concatenate((parest.mre8.emg0_in[0:], parest.mre8.emg1_in[0:]), 1).transpose()\n",
    "\n",
    "plt.plot(ext_time, ext)\n",
    "plt.plot(ext_time, ext_est)\n",
    "plt.plot(ext_time, signal.lfilter(b, a, ext_est))"
   ]
  },
  {
   "cell_type": "code",
   "execution_count": null,
   "metadata": {
    "deletable": true,
    "editable": true
   },
   "outputs": [],
   "source": [
    "start = \\\n",
    "len(parest.mre7.emg0_in) + padding + \\\n",
    "len(parest.mre8.emg0_in) + padding + \\\n",
    "len(parest.mmre1.emg0_in) + padding\n",
    "\n",
    "stop = start + len(parest.mrf1.emg0_in)\n",
    "flex_est = tau[start:stop]\n",
    "flex = torque[start:stop]\n",
    "flex_act = act[:,start:stop]\n",
    "flex_time = np.linspace(0, (stop-start)*0.01, stop-start)\n",
    "\n",
    "flex_emg = np.concatenate((parest.mrf1.emg0_in[0:],parest.mrf1.emg1_in[0:]), 1).transpose()\n",
    "\n",
    "plt.plot(flex_time, flex)\n",
    "plt.plot(flex_time, flex_est)\n",
    "plt.plot(flex_time, signal.lfilter(b, a, flex_est))"
   ]
  },
  {
   "cell_type": "code",
   "execution_count": null,
   "metadata": {
    "deletable": true,
    "editable": true
   },
   "outputs": [],
   "source": [
    "HEADER = \\\n",
    "    'TIME MEAS EST EST_LP ' + \\\n",
    "    'TRICEPS BICEPS ' + \\\n",
    "    'POD0_1 POD0_2 POD0_3 POD0_4 POD0_5 POD0_6 POD0_7 POD1_8 ' + \\\n",
    "    'POD1_1 POD1_2 POD1_3 POD1_4 POD1_5 POD1_6 POD1_7 POD1_8'"
   ]
  },
  {
   "cell_type": "code",
   "execution_count": null,
   "metadata": {
    "deletable": true,
    "editable": true
   },
   "outputs": [],
   "source": [
    "np.savetxt(\n",
    "    'est_ext_2m.dat', \n",
    "    np.vstack(\n",
    "        [\n",
    "            ext_time, \n",
    "            np.array(ext),\n",
    "            np.array(ext_est), \n",
    "            signal.lfilter(b, a, ext_est),\n",
    "            ext_act,\n",
    "            ext_emg\n",
    "        ]\n",
    "    ).transpose(), \n",
    "    header=HEADER,\n",
    "    comments=''\n",
    ")"
   ]
  },
  {
   "cell_type": "code",
   "execution_count": null,
   "metadata": {
    "deletable": true,
    "editable": true
   },
   "outputs": [],
   "source": [
    "np.savetxt(\n",
    "    'est_flex_2m.dat', \n",
    "    np.vstack(\n",
    "        [\n",
    "            flex_time, \n",
    "            np.array(flex),\n",
    "            np.array(flex_est), \n",
    "            signal.lfilter(b, a, flex_est),\n",
    "            flex_act,\n",
    "            flex_emg\n",
    "        ]\n",
    "    ).transpose(), \n",
    "    header=HEADER, \n",
    "    comments=''\n",
    ")"
   ]
  },
  {
   "cell_type": "code",
   "execution_count": null,
   "metadata": {
    "deletable": true,
    "editable": true
   },
   "outputs": [],
   "source": [
    "est = np.array(tau)\n",
    "meas = np.array(torque)\n",
    "mse = sum( (est - meas )**2 ) / len(meas)\n",
    "print('MSE:', mse)"
   ]
  },
  {
   "cell_type": "code",
   "execution_count": null,
   "metadata": {
    "deletable": true,
    "editable": true
   },
   "outputs": [],
   "source": []
  }
 ],
 "metadata": {
  "kernelspec": {
   "display_name": "Python 3",
   "language": "python",
   "name": "python3"
  },
  "language_info": {
   "codemirror_mode": {
    "name": "ipython",
    "version": 3
   },
   "file_extension": ".py",
   "mimetype": "text/x-python",
   "name": "python",
   "nbconvert_exporter": "python",
   "pygments_lexer": "ipython3"
  }
 },
 "nbformat": 4,
 "nbformat_minor": 2
}
