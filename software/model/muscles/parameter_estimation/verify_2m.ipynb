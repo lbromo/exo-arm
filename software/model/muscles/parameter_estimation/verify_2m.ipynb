{
 "cells": [
  {
   "cell_type": "code",
   "execution_count": null,
   "metadata": {
    "deletable": true,
    "editable": true
   },
   "outputs": [],
   "source": [
    "%pylab inline\n",
    "import os, glob, pickle\n",
    "import numpy as np\n",
    "import matplotlib.pyplot as plt\n",
    "from scipy import signal\n",
    "pylab.rcParams['figure.figsize'] = (10, 6)"
   ]
  },
  {
   "cell_type": "code",
   "execution_count": null,
   "metadata": {
    "deletable": true,
    "editable": true
   },
   "outputs": [],
   "source": [
    "import sys\n",
    "sys.path.append(\"../\")\n",
    "import muscle_utils\n",
    "import muscle"
   ]
  },
  {
   "cell_type": "code",
   "execution_count": null,
   "metadata": {
    "deletable": true,
    "editable": true
   },
   "outputs": [],
   "source": [
    "import parest\n",
    "import amre1, amre2\n",
    "import amrf1, amrf2"
   ]
  },
  {
   "cell_type": "code",
   "execution_count": null,
   "metadata": {
    "deletable": true,
    "editable": true
   },
   "outputs": [],
   "source": [
    "ts = 0.01\n",
    "padding = int(10/ts)"
   ]
  },
  {
   "cell_type": "code",
   "execution_count": null,
   "metadata": {
    "deletable": true,
    "editable": true
   },
   "outputs": [],
   "source": [
    "angles_in = [amre1.angles_in,\n",
    "             [0]*padding,\n",
    "             amre2.angles_in,\n",
    "             [0]*padding,\n",
    "             amrf1.angles_in,\n",
    "             [0]*padding,\n",
    "             amrf2.angles_in,\n",
    "]\n",
    "\n",
    "\n",
    "torque_out = [amre1.torque_out,\n",
    "              [0]*padding,\n",
    "              amre2.torque_out,\n",
    "              [0]*padding,\n",
    "              amrf1.torque_out,\n",
    "              [0]*padding,\n",
    "              amrf2.torque_out,\n",
    "]\n"
   ]
  },
  {
   "cell_type": "code",
   "execution_count": null,
   "metadata": {
    "deletable": true,
    "editable": true
   },
   "outputs": [],
   "source": [
    "emg0_training = [amre1.emg0_training,\n",
    "                 np.zeros((padding, 8)),\n",
    "                 amre2.emg0_training,\n",
    "                 np.zeros((padding, 8)),\n",
    "                 amrf1.emg0_training,\n",
    "                 np.zeros((padding, 8)),\n",
    "                 amrf2.emg0_training,\n",
    "]\n",
    "emg1_training = [amre1.emg1_training,\n",
    "                 np.zeros((padding, 8)),\n",
    "                 amre2.emg1_training,\n",
    "                 np.zeros((padding, 8)),\n",
    "                 amrf1.emg1_training,\n",
    "                 np.zeros((padding, 8)),\n",
    "                 amrf2.emg1_training,\n",
    "]\n",
    "\n",
    "emg0_in = [amre1.emg0_in,\n",
    "           np.zeros((padding, 8)),\n",
    "           amre2.emg0_in,\n",
    "           np.zeros((padding, 8)),\n",
    "           amrf1.emg0_in, \n",
    "           np.zeros((padding, 8)),\n",
    "           amrf2.emg0_in,\n",
    "]\n",
    "emg1_in = [amre1.emg1_in,\n",
    "           np.zeros((padding, 8)),\n",
    "           amre2.emg1_in,\n",
    "           np.zeros((padding, 8)),\n",
    "           amrf1.emg1_in,\n",
    "           np.zeros((padding, 8)),\n",
    "           amrf2.emg1_in,\n",
    "]\n"
   ]
  },
  {
   "cell_type": "code",
   "execution_count": null,
   "metadata": {
    "deletable": true,
    "editable": true
   },
   "outputs": [],
   "source": [
    "imu0_in = [amre1.imu0_meas,\n",
    "           np.zeros((padding, 7)),\n",
    "           amre2.imu0_meas,\n",
    "           np.zeros((padding, 7)),\n",
    "           amrf1.imu0_meas, \n",
    "           np.zeros((padding, 7)),\n",
    "           amrf2.imu0_meas,\n",
    "]\n",
    "\n",
    "imu1_in = [amre1.imu1_meas,\n",
    "           np.zeros((padding, 7)),\n",
    "           amre2.imu1_meas,\n",
    "           np.zeros((padding, 7)),\n",
    "           amrf1.imu1_meas,\n",
    "           np.zeros((padding, 7)),\n",
    "           amrf2.imu1_meas,\n",
    "]"
   ]
  },
  {
   "cell_type": "code",
   "execution_count": null,
   "metadata": {
    "deletable": true,
    "editable": true
   },
   "outputs": [],
   "source": [
    "\n",
    "with open('../../2muslces_cleaned.pickle', 'rb') as tmp:\n",
    "    pars = pickle.load(tmp)\n",
    "\n",
    "triceps_pars = [\n",
    "    pars[muscle_utils.MUSCLE_NAME.TRICEPS_BRACHII]['ACTIVATION_SIGNAL']['C1'],\n",
    "    pars[muscle_utils.MUSCLE_NAME.TRICEPS_BRACHII]['ACTIVATION_SIGNAL']['C2'],\n",
    "    pars[muscle_utils.MUSCLE_NAME.TRICEPS_BRACHII]['ACTIVATION_SIGNAL']['A'],\n",
    "    pars[muscle_utils.MUSCLE_NAME.TRICEPS_BRACHII]['ACTIVATION_SIGNAL']['d'],\n",
    "    pars[muscle_utils.MUSCLE_NAME.TRICEPS_BRACHII]['max_length'],\n",
    "    pars[muscle_utils.MUSCLE_NAME.TRICEPS_BRACHII]['optimal_fiber_length'],\n",
    "    pars[muscle_utils.MUSCLE_NAME.TRICEPS_BRACHII]['tensor_slack_length'],\n",
    "    pars[muscle_utils.MUSCLE_NAME.TRICEPS_BRACHII]['max_force'],\n",
    "    pars[muscle_utils.MUSCLE_NAME.TRICEPS_BRACHII]['alpha'],\n",
    "    pars[muscle_utils.MUSCLE_NAME.TRICEPS_BRACHII]['Spe'],\n",
    "    pars[muscle_utils.MUSCLE_NAME.TRICEPS_BRACHII]['Sse'],\n",
    "    pars[muscle_utils.MUSCLE_NAME.TRICEPS_BRACHII]['phi_m'],\n",
    "    pars[muscle_utils.MUSCLE_NAME.TRICEPS_BRACHII]['phi_v'],\n",
    "]\n",
    "\n",
    "biceps_pars = [\n",
    "    pars[muscle_utils.MUSCLE_NAME.BICEPS_BRACHII]['ACTIVATION_SIGNAL']['C1'],\n",
    "    pars[muscle_utils.MUSCLE_NAME.BICEPS_BRACHII]['ACTIVATION_SIGNAL']['C2'],\n",
    "    pars[muscle_utils.MUSCLE_NAME.BICEPS_BRACHII]['ACTIVATION_SIGNAL']['A'],\n",
    "    pars[muscle_utils.MUSCLE_NAME.BICEPS_BRACHII]['ACTIVATION_SIGNAL']['d'],\n",
    "    pars[muscle_utils.MUSCLE_NAME.BICEPS_BRACHII]['max_length'],\n",
    "    pars[muscle_utils.MUSCLE_NAME.BICEPS_BRACHII]['optimal_fiber_length'],\n",
    "    pars[muscle_utils.MUSCLE_NAME.BICEPS_BRACHII]['tensor_slack_length'],\n",
    "    pars[muscle_utils.MUSCLE_NAME.BICEPS_BRACHII]['max_force'],\n",
    "    pars[muscle_utils.MUSCLE_NAME.BICEPS_BRACHII]['alpha'],\n",
    "    pars[muscle_utils.MUSCLE_NAME.BICEPS_BRACHII]['Spe'],\n",
    "    pars[muscle_utils.MUSCLE_NAME.BICEPS_BRACHII]['Sse'],\n",
    "    pars[muscle_utils.MUSCLE_NAME.BICEPS_BRACHII]['phi_m'],\n",
    "    pars[muscle_utils.MUSCLE_NAME.BICEPS_BRACHII]['phi_v'],\n",
    "]\n",
    "\n",
    "params = triceps_pars + biceps_pars"
   ]
  },
  {
   "cell_type": "code",
   "execution_count": null,
   "metadata": {
    "deletable": true,
    "editable": true
   },
   "outputs": [],
   "source": [
    "parest.angles_in = angles_in\n",
    "parest.torque_out = torque_out\n",
    "parest.emg0_training = emg0_training\n",
    "parest.emg1_training = emg1_training\n",
    "parest.emg0_in = emg0_in\n",
    "parest.emg1_in = emg1_in\n",
    "parest.imu0_in = imu0_in\n",
    "parest.imu1_in = imu1_in"
   ]
  },
  {
   "cell_type": "code",
   "execution_count": null,
   "metadata": {
    "deletable": true,
    "editable": true
   },
   "outputs": [],
   "source": [
    "torque = []\n",
    "for tau_tmp in parest.torque_out:\n",
    "    torque = torque + list(tau_tmp)"
   ]
  },
  {
   "cell_type": "code",
   "execution_count": null,
   "metadata": {
    "deletable": true,
    "editable": true
   },
   "outputs": [],
   "source": [
    "estimated = parest.FlexProblem()\n",
    "muscles = estimated.set_up_muscles(params)\n",
    "tau, act, m_tau = estimated.simulate(muscles)\n",
    "act = np.array(act[0:2])"
   ]
  },
  {
   "cell_type": "code",
   "execution_count": null,
   "metadata": {
    "deletable": true,
    "editable": true
   },
   "outputs": [],
   "source": [
    "plt.plot(tau)\n",
    "plt.plot(torque)"
   ]
  },
  {
   "cell_type": "code",
   "execution_count": null,
   "metadata": {
    "deletable": true,
    "editable": true
   },
   "outputs": [],
   "source": [
    "# a little filter\n",
    "nyq = 0.5 * 100\n",
    "cut = 1\n",
    "low = cut / nyq\n",
    "b, a = signal.butter(4, low, 'low')"
   ]
  },
  {
   "cell_type": "code",
   "execution_count": null,
   "metadata": {
    "deletable": true,
    "editable": true
   },
   "outputs": [],
   "source": [
    "start = len(amre1.emg0_in) + padding + 500\n",
    "stop = start + len(amre2.emg0_in) - 500\n",
    "ext_est = tau[start:stop]\n",
    "ext = torque[start:stop]\n",
    "ext_act = act[:,start:stop]\n",
    "ext_time = np.linspace(0, (stop-start)*0.01, stop-start)\n",
    "plt.plot(ext_time, ext)\n",
    "plt.plot(ext_time, ext_est)\n",
    "plt.plot(ext_time, signal.lfilter(b, a, ext_est))"
   ]
  },
  {
   "cell_type": "code",
   "execution_count": null,
   "metadata": {
    "deletable": true,
    "editable": true
   },
   "outputs": [],
   "source": [
    "start = len(amre1.emg0_in) + padding +  len(amre2.emg0_in) + padding\n",
    "stop = start + len(amrf1.emg0_in)\n",
    "flex_est = tau[start:stop]\n",
    "flex = torque[start:stop]\n",
    "flex_act = act[:,start:stop]\n",
    "flex_time = np.linspace(0, (stop-start)*0.01, stop-start)\n",
    "plt.plot(flex_time, flex)\n",
    "plt.plot(flex_time, flex_est)\n",
    "plt.plot(flex_time, signal.lfilter(b, a, flex_est))"
   ]
  },
  {
   "cell_type": "code",
   "execution_count": null,
   "metadata": {},
   "outputs": [],
   "source": [
    "HEADER = 'TIME, MEAS, EST, EST_LP, TRICEPS, BICEPS, BRACHIALIS, BRACHIORADIALIS'"
   ]
  },
  {
   "cell_type": "code",
   "execution_count": null,
   "metadata": {
    "deletable": true,
    "editable": true
   },
   "outputs": [],
   "source": [
    "np.savetxt(\n",
    "    'ext_2m.dat', \n",
    "    np.vstack(\n",
    "        [\n",
    "            ext_time, \n",
    "            np.array(ext),\n",
    "            np.array(ext_est), \n",
    "            signal.lfilter(b, a, ext_est),\n",
    "            ext_act\n",
    "        ]\n",
    "    ).transpose(), \n",
    "    header=HEADER, \n",
    "    comments=''\n",
    ")"
   ]
  },
  {
   "cell_type": "code",
   "execution_count": null,
   "metadata": {
    "deletable": true,
    "editable": true
   },
   "outputs": [],
   "source": [
    "np.savetxt(\n",
    "    'flex_2m.dat', \n",
    "    np.vstack(\n",
    "        [\n",
    "            flex_time, \n",
    "            np.array(flex),\n",
    "            np.array(flex_est), \n",
    "            signal.lfilter(b, a, flex_est),\n",
    "            flex_act\n",
    "        ]\n",
    "    ).transpose(), \n",
    "    header=HEADER, \n",
    "    comments=''\n",
    ")"
   ]
  },
  {
   "cell_type": "code",
   "execution_count": null,
   "metadata": {
    "deletable": true,
    "editable": true
   },
   "outputs": [],
   "source": []
  }
 ],
 "metadata": {
  "kernelspec": {
   "display_name": "Python 3",
   "language": "python",
   "name": "python3"
  },
  "language_info": {
   "codemirror_mode": {
    "name": "ipython",
    "version": 3
   },
   "file_extension": ".py",
   "mimetype": "text/x-python",
   "name": "python",
   "nbconvert_exporter": "python",
   "pygments_lexer": "ipython3"
  }
 },
 "nbformat": 4,
 "nbformat_minor": 2
}
