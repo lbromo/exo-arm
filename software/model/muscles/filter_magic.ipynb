{
 "cells": [
  {
   "cell_type": "code",
   "execution_count": null,
   "metadata": {},
   "outputs": [],
   "source": [
    "%pylab inline\n",
    "import operator\n",
    "import collections\n",
    "import scipy.signal as sig\n",
    "import pandas as pd"
   ]
  },
  {
   "cell_type": "code",
   "execution_count": null,
   "metadata": {},
   "outputs": [],
   "source": [
    "def iir_filter(b, a, x, y):\n",
    "    y = list(reversed(y))\n",
    "    x = list(reversed(x))\n",
    "    tmp = sum(b[k]*x[k] for k in range(len(b))) + sum(-a[k+1]*y[k] for k in range(0,len(a)-1))\n",
    "    return 1/a[0] * tmp"
   ]
  },
  {
   "cell_type": "code",
   "execution_count": null,
   "metadata": {},
   "outputs": [],
   "source": [
    "log_file = '/home/lasse/Dropbox/exo-arm/logs/emg_logs/mr_morten/mr_morten_flex_isokinetic_3rep/emg-1485951230.csv'"
   ]
  },
  {
   "cell_type": "code",
   "execution_count": null,
   "metadata": {},
   "outputs": [],
   "source": [
    "df = pd.read_csv(log_file)"
   ]
  },
  {
   "cell_type": "code",
   "execution_count": null,
   "metadata": {},
   "outputs": [],
   "source": [
    "emg4 = df['emg4']"
   ]
  },
  {
   "cell_type": "code",
   "execution_count": null,
   "metadata": {},
   "outputs": [],
   "source": [
    "fs = 200\n",
    "nyq = 0.5 * fs\n",
    "\n",
    "hp_cutoff = 10\n",
    "normal_hp_cutoff = hp_cutoff / nyq\n",
    "b_hp, a_hp  = sig.butter(4, normal_hp_cutoff, 'highpass')\n",
    "\n",
    "lp_cutoff = 6\n",
    "normal_lp_cutoff = lp_cutoff / nyq\n",
    "b_lp, a_lp  = sig.butter(4, normal_lp_cutoff, 'lowpass')"
   ]
  },
  {
   "cell_type": "code",
   "execution_count": null,
   "metadata": {},
   "outputs": [],
   "source": [
    "x_hp = collections.deque([0] * 5, maxlen=5)\n",
    "y_hp = collections.deque([0] * 4, maxlen=4)\n",
    "\n",
    "x_rec = collections.deque([0] * 5, maxlen=5)\n",
    "y_lp = collections.deque([0] * 4, maxlen=4)\n",
    "\n",
    "tmp = []\n",
    "\n",
    "for e in emg4:\n",
    "    x_hp.append(e)\n",
    "    y_hp_new = iir_filter(b_hp, a_hp, x_hp, y_hp)\n",
    "    y_hp.append(y_hp_new)\n",
    "        \n",
    "    x_rec.append(abs(y_hp_new))\n",
    "\n",
    "    y_lp_new = iir_filter(b_lp, a_lp, x_rec, y_lp)\n",
    "    y_lp.append(y_lp_new)\n",
    "    tmp.append(y_lp_new)"
   ]
  },
  {
   "cell_type": "code",
   "execution_count": null,
   "metadata": {},
   "outputs": [],
   "source": [
    "hp = sig.lfilter(b_hp, a_hp, emg4)\n",
    "rec = abs(hp)\n",
    "lp = sig.lfilter(b_lp, a_lp, rec)\n",
    "\n",
    "plt.plot(emg4)\n",
    "plt.plot(tmp, linewidth=3)\n",
    "plt.plot(lp, linewidth=1)"
   ]
  },
  {
   "cell_type": "code",
   "execution_count": null,
   "metadata": {},
   "outputs": [],
   "source": [
    "x = list(emg4)\n",
    "y1 = [0] * len(x)\n",
    "y2 = [0] * len(x)\n",
    "\n",
    "y = sig.lfilter(b_hp, a_hp, x)\n",
    "\n",
    "for n in range(len(b_hp), len(x)):\n",
    "    x1 = x[n-4:n+1]\n",
    "    y_r = y2[n-4:n]\n",
    "    \n",
    "    #tmp = sum(b[k]*x1[k] for k in range(len(b))) + sum(-a[k+1]*y1[-k] for k in range(0,len(y1)))\n",
    "    tmp1 = sum(b_hp[k]*x[n-k] for k in range(len(b_hp))) + sum(-a_hp[k]*y1[n-k] for k in range(1,len(a_hp)))\n",
    "    ynew1 = tmp1 / a_hp[0]\n",
    "    ynew2 = iir_filter(b_hp, a_hp, x1, y_r)    \n",
    "    \n",
    "    y1[n] = ynew1\n",
    "    y2[n] = ynew2"
   ]
  },
  {
   "cell_type": "code",
   "execution_count": null,
   "metadata": {},
   "outputs": [],
   "source": []
  }
 ],
 "metadata": {
  "kernelspec": {
   "display_name": "Python 2",
   "language": "python2",
   "name": "python2"
  },
  "language_info": {
   "codemirror_mode": {
    "name": "ipython",
    "version": 2
   },
   "file_extension": ".py",
   "mimetype": "text/x-python",
   "name": "python",
   "nbconvert_exporter": "python",
   "pygments_lexer": "ipython2"
  }
 },
 "nbformat": 4,
 "nbformat_minor": 2
}
