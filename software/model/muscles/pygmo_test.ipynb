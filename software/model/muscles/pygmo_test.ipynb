{
 "cells": [
  {
   "cell_type": "code",
   "execution_count": null,
   "metadata": {},
   "outputs": [],
   "source": [
    "%pylab inline\n",
    "from PyGMO import *\n",
    "import emg\n",
    "import activation_signal\n",
    "import muscle\n",
    "import muscle_utils\n",
    "import numpy as np\n",
    "import scipy\n",
    "import matplotlib.pyplot as plt"
   ]
  },
  {
   "cell_type": "code",
   "execution_count": null,
   "metadata": {},
   "outputs": [],
   "source": [
    "\n",
    "class test_parest(problem.base):\n",
    "    \n",
    "    def __init__(self, \n",
    "                 muscle_type = muscle_utils.MUSCLE_NAME.BICEPS_BRACHII, \n",
    "                 joint = muscle_utils.MUSCLE_JOINT.ELBOW, \n",
    "                 emg_pod = emg.EMGPOD.BICEPS_BRACHII, \n",
    "                 C1=-0.033, C2=-0.019, A=-0.200, d=0.05, \n",
    "                 dim = 9, fdim = 1, cdim = 0):\n",
    "        super(test_parest, self).__init__(dim, 0, fdim, cdim)\n",
    "                \n",
    "        self.muscle_type = muscle_type\n",
    "        self.joint = joint\n",
    "        self.emg_pod = emg_pod\n",
    "        self.C1 = C1\n",
    "        self.C2 = C2\n",
    "        self.A = A\n",
    "        self.d = d\n",
    "        \n",
    "        self.emg = emg.EMG()\n",
    "        \n",
    "        \n",
    "        self.emg_measurements = emg_in\n",
    "        self.angles = angles_in\n",
    "        self.y = force_out\n",
    "        \n",
    "        self.set_bounds(\n",
    "            [200, 100, 100, 500, 0.5, 1, 1, 0.1, 0.1], \n",
    "            [1200, 400, 400, 10000, 1, 10, 10, 10, 10]\n",
    "        )\n",
    "        \n",
    "    \n",
    "    def simulate(self, x):\n",
    "        act_sig = activation_signal.ActivationSignal(self.C1, self.C2, self.A, self.d, self.emg_pod)\n",
    "        self.emg.register_observer(act_sig)\n",
    "        \n",
    "        m = muscle.Muscle(\n",
    "            activation_signal = act_sig,\n",
    "            max_length = x[0],\n",
    "            optimal_fiber_length = x[1],\n",
    "            tensor_slack_length  = x[2],\n",
    "            max_force = x[3],\n",
    "            alpha = x[4],\n",
    "            Spe = x[5],\n",
    "            Sse = x[6],\n",
    "            phi_m = x[7],\n",
    "            phi_v = x[8],\n",
    "            ts = 0.01\n",
    "        )\n",
    "        \n",
    "        force, actvation = [], []\n",
    "        \n",
    "        for i in range(len(self.emg_measurements)):\n",
    "            e = self.emg_measurements[i]\n",
    "            a = [self.angles[i], 0]\n",
    "            self.emg.on_emg_measurement(e)\n",
    "            actvation.append(act_sig.get_activation_level())\n",
    "            force.append(m.get_torque_estimate(a, self.joint))\n",
    "        \n",
    "        self.emg.unregister_observer(act_sig)\n",
    "        \n",
    "        return force, actvation\n",
    "        \n",
    "    def _objfun_impl(self, x):\n",
    "        est, _ = self.simulate(x)\n",
    "        \n",
    "        est = np.array(est)\n",
    "        mse = sum((self.y[50:] - est[50:])**2)\n",
    "                \n",
    "        return (mse,)\n",
    "        \n",
    "    #def _compute_constraints_impl(self, x):\n",
    "    #    return (0,)\n",
    "    \n",
    "    def __copy__(self):\n",
    "        return self\n",
    "        "
   ]
  },
  {
   "cell_type": "code",
   "execution_count": null,
   "metadata": {},
   "outputs": [],
   "source": [
    "import os\n",
    "import pwd\n",
    "import muscle_utils\n",
    "user = pwd.getpwuid( os.getuid() )[0]\n",
    "\n",
    "kinkom=np.genfromtxt(\n",
    "    \"/home/{}/Dropbox/exo-arm/logs/kincom_logs/morten/MRF1_clean\".format(\n",
    "        user\n",
    "    )\n",
    "    , delimiter=',')\n",
    "\n",
    "angle=abs(kinkom[100:-20,1])\n",
    "force = kinkom[100:-20,-1]\n",
    "\n",
    "emg_meas=np.genfromtxt(\n",
    "    \"/home/{}/Dropbox/exo-arm/logs/emg_logs/mr_morten/mr_morten_flex_isokinetic_3rep/emg-1485951230.csv\".format(\n",
    "        user\n",
    "    ), \n",
    "    delimiter=',')\n",
    "\n",
    "emg_cleaned = emg_meas[300:-300,1:]\n",
    "\n",
    "emg_resampled = scipy.signal.resample(emg_cleaned, len(angle))\n"
   ]
  },
  {
   "cell_type": "code",
   "execution_count": null,
   "metadata": {},
   "outputs": [],
   "source": [
    "#angle[test][547:], force[test][547:]\n",
    "angles_in = angle[test][520:]\n",
    "emg_in = emg_resampled[test][520:]\n",
    "force_out = force[test][520:]"
   ]
  },
  {
   "cell_type": "code",
   "execution_count": null,
   "metadata": {},
   "outputs": [],
   "source": [
    "prob = test_parest(\n",
    "    muscle_type = muscle_utils.MUSCLE_NAME.BICEPS_BRACHII,\n",
    "    joint = muscle_utils.MUSCLE_JOINT.ELBOW,\n",
    "    emg_pod = emg.EMGPOD.BICEPS_BRACHII,\n",
    "    C1=-0.033, C2=-0.019, A=-0.200, d=0.05,\n",
    "    dim = 9, \n",
    "    fdim = 1, \n",
    "    cdim = 0\n",
    ")"
   ]
  },
  {
   "cell_type": "code",
   "execution_count": null,
   "metadata": {},
   "outputs": [],
   "source": [
    "algo = algorithm.pso(gen=100)  # 500 generations of bee_colony algorithm\n",
    "isl = island(algo, prob, 10)  # Instantiate population with 20 individuals\n",
    "isl.evolve(1)  # Evolve the island once\n",
    "isl.join()\n",
    "print(isl.population.champion)\n",
    "best = list(isl.population.champion.x)"
   ]
  },
  {
   "cell_type": "code",
   "execution_count": null,
   "metadata": {},
   "outputs": [],
   "source": [
    "t, a = prob.simulate(best)\n",
    "\n",
    "plt.plot(force_out)\n",
    "plt.plot(force[test][520:])\n",
    "\n",
    "figure()\n",
    "plt.plot(angles_in[50:], t[50:], '*')\n",
    "plt.plot(angles_in[50:], force_out[50:], '*')\n",
    "plt.legend(['Simulated', 'Measuremed'])\n",
    "plt.xlabel('Angle')\n",
    "plt.ylabel('Torque')"
   ]
  },
  {
   "cell_type": "code",
   "execution_count": null,
   "metadata": {},
   "outputs": [],
   "source": [
    "len(angle)"
   ]
  },
  {
   "cell_type": "code",
   "execution_count": null,
   "metadata": {},
   "outputs": [],
   "source": [
    "test = [i for i in range(1,len(angle)) if angle[i] - angle[i-1] > 0 and angle[i] > 5]"
   ]
  },
  {
   "cell_type": "code",
   "execution_count": null,
   "metadata": {},
   "outputs": [],
   "source": [
    "plt.plot(angle[test][520:], force[test][520:], 'x')\n",
    "plt.figure()\n",
    "plt.plot(angle[test][520:], force[test][250:], 'x')"
   ]
  },
  {
   "cell_type": "code",
   "execution_count": null,
   "metadata": {},
   "outputs": [],
   "source": [
    "for i in range(len(angle[test])):\n",
    "    if angle[i] < 10:\n",
    "        print(i)"
   ]
  },
  {
   "cell_type": "code",
   "execution_count": null,
   "metadata": {},
   "outputs": [],
   "source": []
  },
  {
   "cell_type": "code",
   "execution_count": null,
   "metadata": {},
   "outputs": [],
   "source": []
  }
 ],
 "metadata": {
  "kernelspec": {
   "display_name": "Python 3",
   "language": "python",
   "name": "python3"
  },
  "language_info": {
   "codemirror_mode": {
    "name": "ipython",
    "version": 3
   },
   "file_extension": ".py",
   "mimetype": "text/x-python",
   "name": "python",
   "nbconvert_exporter": "python",
   "pygments_lexer": "ipython3"
  }
 },
 "nbformat": 4,
 "nbformat_minor": 2
}
