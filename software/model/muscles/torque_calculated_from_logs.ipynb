{
 "cells": [
  {
   "cell_type": "code",
   "execution_count": null,
   "metadata": {},
   "outputs": [],
   "source": [
    "%pylab inline\n",
    "import matplotlib.pyplot as plc\n",
    "import combimuscle\n",
    "import activation_signal\n",
    "import muscle_utils\n",
    "import numpy as np\n",
    "import scipy as sc"
   ]
  },
  {
   "cell_type": "code",
   "execution_count": null,
   "metadata": {},
   "outputs": [],
   "source": [
    "emg=np.genfromtxt(\"/home/bjarkenrp/Dropbox/exo-arm/logs/emg_logs/mr_morten/mr_morten_flex_isokinetic_3rep/emg-1485951230.csv\", delimiter=',')"
   ]
  },
  {
   "cell_type": "code",
   "execution_count": null,
   "metadata": {},
   "outputs": [],
   "source": [
    "emg4=emg[300:-300,4]\n",
    "emg4\n",
    "#plc.plot(emg4)\n",
    "emg8=emg[300:-300,8]\n",
    "#plc.plot(emg8)\n",
    "\n",
    "emg4=sc.signal.resample(emg4,1658)\n",
    "emg8=sc.signal.resample(emg8,1658)\n",
    "plc.plot(emg4)\n",
    "plc.plot(emg8)\n",
    "\n",
    "a_lowerarm =[0]*1658 "
   ]
  },
  {
   "cell_type": "code",
   "execution_count": null,
   "metadata": {},
   "outputs": [],
   "source": [
    "C1 = -0.033\n",
    "C2 = -0.019\n",
    "A = -0.02\n",
    "d = 0.05 \n",
    "\n",
    "a4 = activation_signal.ActivationSignal(C1, C2, A, d)\n",
    "a8 = activation_signal.ActivationSignal(C1, C2, A, d)\n"
   ]
  },
  {
   "cell_type": "code",
   "execution_count": null,
   "metadata": {},
   "outputs": [],
   "source": [
    "kinkom=np.genfromtxt(\"/home/bjarkenrp/Dropbox/exo-arm/logs/kincom_logs/morten/MRF1_clean\", delimiter=',')"
   ]
  },
  {
   "cell_type": "code",
   "execution_count": null,
   "metadata": {},
   "outputs": [],
   "source": [
    "angle=abs(kinkom[100:-20,1])\n",
    "angle\n",
    "#plc.plot(angle)\n",
    "len(angle)"
   ]
  },
  {
   "cell_type": "code",
   "execution_count": null,
   "metadata": {},
   "outputs": [],
   "source": [
    "tau = []\n",
    "a4_vec = []\n",
    "for a, e4, e8 in zip(angle, emg4, emg8):\n",
    "    activation_level = [\n",
    "        a4.new_measurement(e4),\n",
    "        0,\n",
    "        a4.get_activation_level(),\n",
    "        a8.new_measurement(e8)\n",
    "    ]\n",
    "    angs = [a, 0]\n",
    "    a4_vec.append(a4.get_activation_level())\n",
    "    tau.append(combimuscle.get_comb_tau(angs, activation_level, muscle_utils.MUSCLE_JOINT.ELBOW))\n"
   ]
  },
  {
   "cell_type": "code",
   "execution_count": null,
   "metadata": {},
   "outputs": [],
   "source": [
    "plt.plot(tau)\n",
    "plt.plot(kinkom[100:-20,3] * 1/22)\n",
    "plt.plot([a*10 for a in a4_vec])"
   ]
  },
  {
   "cell_type": "code",
   "execution_count": null,
   "metadata": {},
   "outputs": [],
   "source": []
  }
 ],
 "metadata": {
  "kernelspec": {
   "display_name": "Python 2",
   "language": "python2",
   "name": "python2"
  },
  "language_info": {
   "codemirror_mode": {
    "name": "ipython",
    "version": 2
   },
   "file_extension": ".py",
   "mimetype": "text/x-python",
   "name": "python",
   "nbconvert_exporter": "python",
   "pygments_lexer": "ipython2"
  }
 },
 "nbformat": 4,
 "nbformat_minor": 2
}
