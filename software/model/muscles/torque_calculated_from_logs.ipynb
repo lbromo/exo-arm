{
 "cells": [
  {
   "cell_type": "code",
   "execution_count": null,
   "metadata": {},
   "outputs": [],
   "source": [
    "%pylab inline\n",
    "import matplotlib.pyplot as plt\n",
    "from mpl_toolkits.mplot3d import Axes3D\n",
    "import combimuscle\n",
    "import activation_signal\n",
    "import muscle_utils\n",
    "import numpy as np\n",
    "import scipy as sc\n",
    "from emg import EMGPOD"
   ]
  },
  {
   "cell_type": "code",
   "execution_count": null,
   "metadata": {},
   "outputs": [],
   "source": [
    "import os\n",
    "import pwd\n",
    "user = pwd.getpwuid( os.getuid() )[0]\n",
    "emg=np.genfromtxt(\n",
    "    \"/home/{}/Dropbox/exo-arm/logs/emg_logs/mr_morten/mr_morten_flex_isokinetic_3rep/emg-1485951230.csv\".format(\n",
    "        user\n",
    "    ), \n",
    "    delimiter=',')"
   ]
  },
  {
   "cell_type": "code",
   "execution_count": null,
   "metadata": {},
   "outputs": [],
   "source": [
    "emg4=emg[300:-300,4]\n",
    "emg8=emg[300:-300,8]\n",
    "\n",
    "emg4=sc.signal.resample(emg4,1658)\n",
    "emg8=sc.signal.resample(emg8,1658)\n",
    "\n",
    "\n",
    "a_lowerarm =[0]*1658 "
   ]
  },
  {
   "cell_type": "code",
   "execution_count": null,
   "metadata": {},
   "outputs": [],
   "source": [
    "kinkom=np.genfromtxt(\n",
    "    \"/home/{}/Dropbox/exo-arm/logs/kincom_logs/morten/MRF1_clean\".format(\n",
    "        user\n",
    "    )\n",
    "    , delimiter=',')"
   ]
  },
  {
   "cell_type": "code",
   "execution_count": null,
   "metadata": {},
   "outputs": [],
   "source": [
    "angle=abs(kinkom[100:-20,1])"
   ]
  },
  {
   "cell_type": "code",
   "execution_count": null,
   "metadata": {},
   "outputs": [],
   "source": [
    "tau = []\n",
    "a4_vec = []\n",
    "activation_level_e4 = []\n",
    "activation_level_e8 = []\n",
    "for a, e4, e8 in zip(angle, emg4, emg8):\n",
    "    angs = [a, 0]\n",
    "    combimuscle.__add_meas__([0, 0, 0, e4, 0, 0, 0, e8])\n",
    "    tau.append(combimuscle.get_comb_tau(angs, muscle_utils.MUSCLE_JOINT.ELBOW))\n",
    "    \n",
    "    a4, _, _, a8 = combimuscle.__get_activation_levels__()\n",
    "    activation_level_e4.append(a4)\n",
    "    activation_level_e8.append(a8)\n"
   ]
  },
  {
   "cell_type": "code",
   "execution_count": null,
   "metadata": {},
   "outputs": [],
   "source": [
    "tau_kinkom = kinkom[100:-20,3] * 1/22\n",
    "time = kinkom[100:-20,0]\n",
    "plt.figure(1)\n",
    "plt.plot(time, tau, 'x')\n",
    "plt.plot(time, tau_kinkom, 'x')\n",
    "plt.figure(2)\n",
    "plt.plot(angle, tau, 'x')\n",
    "plt.plot(angle, tau_kinkom, 'x')\n",
    "plt.figure(3)\n",
    "#plt.plot(activation_level_e4, tau, 'x')\n",
    "plt.plot(activation_level_e4, tau_kinkom, 'x')"
   ]
  },
  {
   "cell_type": "code",
   "execution_count": null,
   "metadata": {},
   "outputs": [],
   "source": [
    "from matplotlib import cm\n",
    "x = activation_level_e4\n",
    "y = angle\n",
    "z = tau_kinkom\n",
    "\n",
    "xi = np.linspace(min(x), max(x), 100)\n",
    "yi = np.linspace(min(y), max(y), 100)\n",
    "\n",
    "X, Y = np.meshgrid(xi, yi)\n",
    "Z = griddata(x, y, z, xi, yi, interp='linear')\n",
    "\n",
    "\n",
    "fig = plt.figure(4)\n",
    "ax = fig.gca(projection='3d')\n",
    "surf = ax.plot_surface(X, Y, Z, cmap=cm.coolwarm)"
   ]
  },
  {
   "cell_type": "code",
   "execution_count": null,
   "metadata": {},
   "outputs": [],
   "source": [
    "mean((tau - tau_kinkom)**2)"
   ]
  },
  {
   "cell_type": "code",
   "execution_count": null,
   "metadata": {},
   "outputs": [],
   "source": []
  }
 ],
 "metadata": {
  "kernelspec": {
   "display_name": "Python 2",
   "language": "python2",
   "name": "python2"
  },
  "language_info": {
   "codemirror_mode": {
    "name": "ipython",
    "version": 2
   },
   "file_extension": ".py",
   "mimetype": "text/x-python",
   "name": "python",
   "nbconvert_exporter": "python",
   "pygments_lexer": "ipython2"
  }
 },
 "nbformat": 4,
 "nbformat_minor": 2
}
