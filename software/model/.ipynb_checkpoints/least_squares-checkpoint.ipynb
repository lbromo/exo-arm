{
 "cells": [
  {
   "cell_type": "code",
   "execution_count": null,
   "metadata": {},
   "outputs": [],
   "source": [
    "%pylab inline\n",
    "import muscle\n",
    "import muscle_utils\n",
    "import numpy as np\n",
    "import pandas as pd\n",
    "import matplotlib.pyplot as plt\n",
    "from lmfit import minimize, Parameters"
   ]
  },
  {
   "cell_type": "code",
   "execution_count": null,
   "metadata": {},
   "outputs": [],
   "source": [
    "def residual(params, l, v, a, m, data, eps_data):\n",
    "    Fcemax = params['Fcemax']\n",
    "    Lmax = params['Lmax']\n",
    "    Lce0 = params['Lce0']\n",
    "    Lts = params['Lts']\n",
    "    Spe = params['Spe']\n",
    "    phi_m = params['phi_m']\n",
    "    phi_v = params['phi_v']\n",
    "    alpha = params['alpha']\n",
    "    \n",
    "    length = l\n",
    "    vel = v\n",
    "    \n",
    "    # CE Element\n",
    "    # Real-Time Myoprocessors for a Neural Controlled Powered Exoskeleton Arm\n",
    "    Vcemax = 2 * Lce0 + 8 * Lce0 * alpha\n",
    "    Vce0 = 1/2 * (a + 1) * Vcemax\n",
    "\n",
    "    fl = np.exp(-1/2 * ((length/Lce0 - phi_m) / phi_v) ** 2)\n",
    "    fv = 0.1433 / (0.1074 + np.exp(-1.3 * np.sinh(2.8 * vel / Vce0 + 1.64)))\n",
    "    Fce = a * fl * fv * Fcemax\n",
    "\n",
    "    # PE Element\n",
    "    # Real-Time Myoprocessors for a Neural Controlled Powered Exoskeleton Arm\n",
    "    Fpemax = 0.05 * Fcemax\n",
    "    DLpemax = Lmax - (Lce0 + Lts)\n",
    "\n",
    "    Fpe = Fpemax / (np.exp(Spe) - 1) * (np.exp(Spe/DLpemax * length) - 1)\n",
    "    \n",
    "    Ftot = Fce + Fpe\n",
    "    \n",
    "    T = np.multiply(Ftot,m)\n",
    "        \n",
    "    res = (data-T)/eps_data\n",
    "    \n",
    "    return res"
   ]
  },
  {
   "cell_type": "code",
   "execution_count": null,
   "metadata": {},
   "outputs": [],
   "source": [
    "m = muscle.Muscle(muscle_type=muscle_utils.MUSCLE_NAME.BICEPS_BRACHII)\n",
    "a = np.sin(np.linspace(0, 3*np.pi, 140))\n",
    "a[a < 0] = -a[a < 0]\n",
    "T = np.zeros((1, 140))\n",
    "L = np.zeros((1, 140))\n",
    "M = np.zeros((1, 140))\n",
    "for i, activation_level in zip(range(0,140), a):\n",
    "    angles = [0, 0, i, 0]\n",
    "    M[0, i] = muscle_utils.get_muscle_value(muscle_utils.MUSCLE_NAME.BICEPS_BRACHII, angles[2], muscle_utils.MUSCLE_JOINT.ELBOW)\n",
    "    T[0, i] = m.get_torque_estimate(angles, activation_level, muscle_utils.MUSCLE_JOINT.ELBOW) * M[0, i]\n",
    "    L[0, i] = muscle_utils.get_muscle_value(muscle_utils.MUSCLE_NAME.BICEPS_BRACHII, angles)"
   ]
  },
  {
   "cell_type": "code",
   "execution_count": null,
   "metadata": {},
   "outputs": [],
   "source": [
    "params = Parameters()\n",
    "\n",
    "params = Parameters()\n",
    "params.add('Fcemax', value=500, min=300, max=700)\n",
    "params.add('Lmax', value=400, min=100, max=600)\n",
    "params.add('Lce0', value=150, min=100, max=300)\n",
    "params.add('Lts', value=100, min=100, max=600)\n",
    "params.add('Spe', value=9, min=5, max=12)\n",
    "params.add('phi_m', value=0.5, min=0, max=1)\n",
    "params.add('phi_v', value=0.9, min=0, max=1)\n",
    "params.add('alpha', value=0.6, min=0.5, max=0.7)\n",
    "\n",
    "v = np.diff(L)\n",
    "v = np.insert(v, 0, v[0,0])\n",
    "L = L - 378.06\n",
    "out = minimize(residual, params, method='leastsq', args=(L, v, a, M, T, 100), maxfev=int(1e9))"
   ]
  },
  {
   "cell_type": "code",
   "execution_count": null,
   "metadata": {},
   "outputs": [],
   "source": [
    "out.message"
   ]
  },
  {
   "cell_type": "code",
   "execution_count": null,
   "metadata": {},
   "outputs": [],
   "source": [
    "plt.plot(T.T)\n",
    "plt.plot(np.subtract(T, out.residual * 100).T)"
   ]
  },
  {
   "cell_type": "code",
   "execution_count": null,
   "metadata": {},
   "outputs": [],
   "source": [
    "plt.plot(out.residual * 100)"
   ]
  }
 ],
 "metadata": {
  "kernelspec": {
   "display_name": "Python 3",
   "language": "python",
   "name": "python3"
  },
  "language_info": {
   "codemirror_mode": {
    "name": "ipython",
    "version": 3
   },
   "file_extension": ".py",
   "mimetype": "text/x-python",
   "name": "python",
   "nbconvert_exporter": "python",
   "pygments_lexer": "ipython3"
  }
 },
 "nbformat": 4,
 "nbformat_minor": 1
}
